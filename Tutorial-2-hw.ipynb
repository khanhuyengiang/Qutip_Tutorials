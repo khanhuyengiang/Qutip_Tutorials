{
 "cells": [
  {
   "attachments": {},
   "cell_type": "markdown",
   "metadata": {},
   "source": [
    "# An example of Quantum Operation"
   ]
  },
  {
   "cell_type": "code",
   "execution_count": 1,
   "metadata": {},
   "outputs": [
    {
     "name": "stderr",
     "output_type": "stream",
     "text": [
      "C:\\Users\\XPS13-9360\\AppData\\Local\\Temp\\ipykernel_10896\\3880048134.py:11: DeprecationWarning: Importing display from IPython.core.display is deprecated since IPython 7.14, please import from IPython display\n",
      "  from IPython.core.display import Image, display\n"
     ]
    }
   ],
   "source": [
    "import matplotlib.pyplot as plt\n",
    "import matplotlib as mpl\n",
    "from matplotlib import cm\n",
    "import numpy as np\n",
    "\n",
    "from qutip import * \n",
    "from qutip.piqs import *\n",
    "\n",
    "import matplotlib.animation as animation\n",
    "from IPython.display import HTML\n",
    "from IPython.core.display import Image, display\n",
    "\n",
    "from qutip.cy.piqs import (\n",
    "    jmm1_dictionary,\n",
    "    _num_dicke_states,\n",
    "    _num_dicke_ladders,\n",
    "    get_blocks,\n",
    "    j_min,\n",
    "    j_vals,\n",
    ")\n",
    "\n",
    "exec(open(\"rename.py\").read())"
   ]
  },
  {
   "attachments": {},
   "cell_type": "markdown",
   "metadata": {},
   "source": [
    "## Depolarization for a single qubit\n",
    "\n",
    "A general Complete Positivity (CP) map on just system can be written as (Kraus representation):\n",
    "$$\\Lambda (\\rho) = \\sum_{i=1}^N K_i\\rho K_i^\\dagger$$\n",
    "\n",
    "The $K_i$ are Kraus operators\n",
    "\n",
    "Kraus representation for a single qubit that describe depolarization:\n",
    "$$\\Lambda_{dep}(\\rho) = \\left ( \n",
    "    1-\\frac{3}{4}p\n",
    "    \\right )\\rho +\\frac{p}{4} (X\\rho X +Y\\rho Y +Z\\rho Z) $$\n",
    "\n",
    "Kraus Operators are: \n",
    "$$\\sqrt{1-\\frac{3p}{4}}I, \\frac{\\sqrt{p}}{2}X, \\frac{\\sqrt{p}}{2}Y, \\frac{\\sqrt{p}}{2}Z$$"
   ]
  },
  {
   "cell_type": "code",
   "execution_count": null,
   "metadata": {},
   "outputs": [],
   "source": [
    "N = 1\n",
    "system = Dicke(N = N)\n",
    "[jx, jy, jz] = jspin(N)\n",
    "jp = jspin(N,\"+\")\n",
    "jm = jp.dag()\n",
    "w0 = 5\n",
    "wx = 2.0\n",
    "system.hamiltonian = w0 * jz + wx * jx\n",
    "#system.dephasing = 0.01\n",
    "#D_tls = system.liouvillian()  "
   ]
  },
  {
   "cell_type": "code",
   "execution_count": null,
   "metadata": {},
   "outputs": [],
   "source": [
    "p = 0.1\n",
    "#kraus_id = lindblad_dissipator(np.sqrt(1-3*p/4)*Id,np.sqrt(1-3*p/4)*Id)\n",
    "kraus_id = np.sqrt(1-3*p/4)*identity(2)\n",
    "kraus_x = np.sqrt(p)/2*sigma_x()\n",
    "kraus_y = np.sqrt(p)/2*sigma_y()\n",
    "kraus_z = np.sqrt(p)/2*sigma_z()\n",
    "depolarize = [kraus_id,kraus_x,kraus_y,kraus_z] "
   ]
  },
  {
   "cell_type": "code",
   "execution_count": null,
   "metadata": {},
   "outputs": [],
   "source": [
    "D_tls = liouvillian(system.hamiltonian, c_ops = depolarize)"
   ]
  },
  {
   "cell_type": "code",
   "execution_count": null,
   "metadata": {},
   "outputs": [],
   "source": [
    "#D_tls = system.liouvillian()"
   ]
  },
  {
   "cell_type": "code",
   "execution_count": null,
   "metadata": {},
   "outputs": [],
   "source": [
    "steady_tls = steadystate(D_tls,method = 'power')\n",
    "jz_ss = expect(jz, steady_tls)\n",
    "jpjm_ss = expect(jp*jm, steady_tls)"
   ]
  },
  {
   "cell_type": "code",
   "execution_count": null,
   "metadata": {},
   "outputs": [],
   "source": [
    "rho0_tls = dicke(N, N/2, -N/2)\n",
    "t = np.linspace(0, 100, 1000)\n",
    "result = mesolve(D_tls, rho0_tls, t, [], e_ops = [jz])\n",
    "rhot_tls = result.states\n",
    "jzt = result.expect[0]"
   ]
  },
  {
   "cell_type": "code",
   "execution_count": null,
   "metadata": {},
   "outputs": [],
   "source": [
    "j_max = N/2.\n",
    "label_size = 20\n",
    "\n",
    "fig1 = plt.figure(1)\n",
    "\n",
    "plt.rc('text', usetex = True)\n",
    "plt.rc('xtick', labelsize=label_size) \n",
    "plt.rc('ytick', labelsize=label_size)\n",
    "plt.plot(wx*t, jzt/j_max, 'k-', label=r'$\\langle J_{z}\\rangle(t)$')\n",
    "plt.plot(wx*t, wx*t * 0 + jz_ss/j_max, 'g--', label = R'Steady-state $\\langle J_{z}\\rangle_\\mathrm{ss}$')\n",
    "plt.title(r'Total inversion', fontsize = label_size)\n",
    "plt.xlabel(r'$\\omega_xt$', fontsize = label_size)\n",
    "plt.ylabel(r'$\\langle J_{z}\\rangle$', fontsize = label_size)\n",
    "plt.legend( fontsize = 0.8 * label_size)\n",
    "#plt.yticks([-1, -0.99])\n",
    "plt.show()\n",
    "plt.close()"
   ]
  },
  {
   "attachments": {},
   "cell_type": "markdown",
   "metadata": {},
   "source": [
    "## Dephasing for a single qubit\n",
    "\n",
    "$$\\Lambda_Z(\\rho) = \\left ( 1-\\frac{p}{2}\\right ) \\rho +\\frac{p}{2}Z\\rho Z$$\n",
    "\n",
    "Kraus operators: \n",
    "\n",
    "$$\\sqrt{1-\\frac{p}{2}}I, \\sqrt{\\frac{p}{2}}Z$$"
   ]
  },
  {
   "cell_type": "code",
   "execution_count": 2,
   "metadata": {},
   "outputs": [],
   "source": [
    "N = 1\n",
    "system_2 = Dicke(N = N)\n",
    "[jx, jy, jz] = jspin(N)\n",
    "jp = jspin(N,\"+\")\n",
    "jm = jp.dag()\n",
    "w0 = 5\n",
    "wx = 2.0\n",
    "system_2.hamiltonian = w0 * jz + wx * jx\n",
    "#system.dephasing = 0.01\n",
    "#D_tls = system.liouvillian()  "
   ]
  },
  {
   "cell_type": "code",
   "execution_count": 3,
   "metadata": {},
   "outputs": [],
   "source": [
    "p = 0.1\n",
    "#kraus_id = lindblad_dissipator(np.sqrt(1-3*p/4)*Id,np.sqrt(1-3*p/4)*Id)\n",
    "kraus_id_2 = np.sqrt(1-p/2)*identity(2)\n",
    "kraus_z_2 = np.sqrt(p)/2*sigma_z()\n",
    "depolarize_2 = [kraus_id_2,kraus_z_2] "
   ]
  },
  {
   "cell_type": "code",
   "execution_count": 4,
   "metadata": {},
   "outputs": [],
   "source": [
    "D_tls_2 = liouvillian(system_2.hamiltonian, c_ops = depolarize_2)"
   ]
  },
  {
   "cell_type": "code",
   "execution_count": 5,
   "metadata": {},
   "outputs": [],
   "source": [
    "#D_tls = system.liouvillian()"
   ]
  },
  {
   "cell_type": "code",
   "execution_count": 6,
   "metadata": {},
   "outputs": [],
   "source": [
    "steady_tls = steadystate(D_tls_2,method = 'power')\n",
    "jz_ss = expect(jz, steady_tls)\n",
    "jpjm_ss = expect(jp*jm, steady_tls)"
   ]
  },
  {
   "cell_type": "code",
   "execution_count": 7,
   "metadata": {},
   "outputs": [],
   "source": [
    "rho0_tls = dicke(N, N/2, -N/2)\n",
    "t = np.linspace(0, 100, 1000)\n",
    "result = mesolve(D_tls_2, rho0_tls, t, [], e_ops = [jz])\n",
    "rhot_tls = result.states\n",
    "jzt = result.expect[0]"
   ]
  },
  {
   "cell_type": "code",
   "execution_count": 8,
   "metadata": {},
   "outputs": [
    {
     "data": {
      "image/png": "[encoded data removed]",
      "text/plain": [
       "<Figure size 640x480 with 1 Axes>"
      ]
     },
     "metadata": {},
     "output_type": "display_data"
    }
   ],
   "source": [
    "j_max = N/2.\n",
    "label_size = 20\n",
    "\n",
    "fig1 = plt.figure(1)\n",
    "\n",
    "plt.rc('text', usetex = True)\n",
    "plt.rc('xtick', labelsize=label_size) \n",
    "plt.rc('ytick', labelsize=label_size)\n",
    "plt.plot(wx*t, jzt/j_max, 'k-', label=r'$\\langle J_{z}\\rangle(t)$')\n",
    "plt.plot(wx*t, wx*t * 0 + jz_ss/j_max, 'g--', label = R'Steady-state $\\langle J_{z}\\rangle_\\mathrm{ss}$')\n",
    "plt.title(r'Total inversion', fontsize = label_size)\n",
    "plt.xlabel(r'$\\omega_xt$', fontsize = label_size)\n",
    "plt.ylabel(r'$\\langle J_{z}\\rangle$', fontsize = label_size)\n",
    "plt.legend( fontsize = 0.8 * label_size)\n",
    "#plt.yticks([-1, -0.99])\n",
    "plt.show()\n",
    "plt.close()"
   ]
  },
  {
   "cell_type": "code",
   "execution_count": null,
   "metadata": {},
   "outputs": [],
   "source": []
  }
 ],
 "metadata": {
  "kernelspec": {
   "display_name": "Python 3 (ipykernel)",
   "language": "python",
   "name": "python3"
  },
  "language_info": {
   "codemirror_mode": {
    "name": "ipython",
    "version": 3
   },
   "file_extension": ".py",
   "mimetype": "text/x-python",
   "name": "python",
   "nbconvert_exporter": "python",
   "pygments_lexer": "ipython3",
   "version": "3.11.3"
  }
 },
 "nbformat": 4,
 "nbformat_minor": 2
}
