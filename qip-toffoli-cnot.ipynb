{
 "cells": [
  {
   "cell_type": "markdown",
   "id": "c15252a1",
   "metadata": {},
   "source": [
    "# Decomposition of the Toffoli gate in terms of CNOT and single-qubit rotations"
   ]
  },
  {
   "cell_type": "markdown",
   "id": "e99eec83",
   "metadata": {},
   "source": [
    "Copyright (C) 2011 and later, Paul D. Nation & Robert J. Johansson"
   ]
  },
  {
   "cell_type": "markdown",
   "id": "0b9dd733",
   "metadata": {},
   "source": [
    "This notebooks demonstrates how a toffoli gate can be rewritten in terms of CNOT gates and single qubit gates, and verifies the equivalence of the two gate sequences by comparing their matrix representations. For more information about the toffoli decomposition, see Nielsen & Chuang, Sec. 4.3, p178.\n",
    "\n",
    "\n",
    "**Note: The circuit image visualizations require [ImageMagick](https://imagemagick.org/index.php) for display.**\n",
    "\n",
    "ImageMagick can be easily installed with the command `conda install imagemagick` if you have conda installed.\n",
    "Otherwise, please follow the installation instructions on the ImageMagick documentation."
   ]
  },
  {
   "cell_type": "code",
   "execution_count": 1,
   "id": "46fa8bdd",
   "metadata": {
    "execution": {
     "iopub.execute_input": "2023-03-15T08:50:36.998959Z",
     "iopub.status.busy": "2023-03-15T08:50:36.998374Z",
     "iopub.status.idle": "2023-03-15T08:50:37.876832Z",
     "shell.execute_reply": "2023-03-15T08:50:37.875897Z"
    }
   },
   "outputs": [],
   "source": [
    "from qutip import about\n",
    "from qutip_qip.operations import gate_sequence_product\n",
    "from qutip_qip.circuit import QubitCircuit"
   ]
  },
  {
   "cell_type": "code",
   "execution_count": 2,
   "id": "c5f096fe",
   "metadata": {
    "execution": {
     "iopub.execute_input": "2023-03-15T08:50:37.881241Z",
     "iopub.status.busy": "2023-03-15T08:50:37.880665Z",
     "iopub.status.idle": "2023-03-15T08:50:37.886062Z",
     "shell.execute_reply": "2023-03-15T08:50:37.885409Z"
    }
   },
   "outputs": [],
   "source": [
    "q = QubitCircuit(3, reverse_states=False)\n",
    "q.add_gate(\"TOFFOLI\", controls=[0, 2], targets=[1])"
   ]
  },
  {
   "cell_type": "code",
   "execution_count": 3,
   "id": "dbe0c913",
   "metadata": {
    "execution": {
     "iopub.execute_input": "2023-03-15T08:50:37.888950Z",
     "iopub.status.busy": "2023-03-15T08:50:37.888506Z",
     "iopub.status.idle": "2023-03-15T08:50:38.207339Z",
     "shell.execute_reply": "2023-03-15T08:50:38.206496Z"
    }
   },
   "outputs": [
    {
     "name": "stderr",
     "output_type": "stream",
     "text": [
      "/home/runner/work/qutip-tutorials/qutip-tutorials/qutip-qip/src/qutip_qip/circuit/circuit_latex.py:95: UserWarning: Could not locate system 'pdfcrop': image output may have additional margins.\n",
      "  warnings.warn(\n"
     ]
    },
    {
     "data": {
      "image/png": "[encoded data removed]",
      "text/plain": [
       "<IPython.core.display.Image object>"
      ]
     },
     "execution_count": 3,
     "metadata": {},
     "output_type": "execute_result"
    }
   ],
   "source": [
    "q.png"
   ]
  },
  {
   "cell_type": "code",
   "execution_count": 4,
   "id": "5724de8a",
   "metadata": {
    "execution": {
     "iopub.execute_input": "2023-03-15T08:50:38.210533Z",
     "iopub.status.busy": "2023-03-15T08:50:38.210024Z",
     "iopub.status.idle": "2023-03-15T08:50:38.221682Z",
     "shell.execute_reply": "2023-03-15T08:50:38.220125Z"
    }
   },
   "outputs": [
    {
     "data": {
      "text/latex": [
       "Quantum object: dims = [[2, 2, 2], [2, 2, 2]], shape = (8, 8), type = oper, isherm = True $ \\\\ \\left(\\begin{matrix}1.0 & 0.0 & 0.0 & 0.0 & 0.0 & 0.0 & 0.0 & 0.0\\\\0.0 & 1.0 & 0.0 & 0.0 & 0.0 & 0.0 & 0.0 & 0.0\\\\0.0 & 0.0 & 1.0 & 0.0 & 0.0 & 0.0 & 0.0 & 0.0\\\\0.0 & 0.0 & 0.0 & 1.0 & 0.0 & 0.0 & 0.0 & 0.0\\\\0.0 & 0.0 & 0.0 & 0.0 & 1.0 & 0.0 & 0.0 & 0.0\\\\0.0 & 0.0 & 0.0 & 0.0 & 0.0 & 0.0 & 0.0 & 1.0\\\\0.0 & 0.0 & 0.0 & 0.0 & 0.0 & 0.0 & 1.0 & 0.0\\\\0.0 & 0.0 & 0.0 & 0.0 & 0.0 & 1.0 & 0.0 & 0.0\\\\\\end{matrix}\\right)$"
      ],
      "text/plain": [
       "Quantum object: dims = [[2, 2, 2], [2, 2, 2]], shape = (8, 8), type = oper, isherm = True\n",
       "Qobj data =\n",
       "[[1. 0. 0. 0. 0. 0. 0. 0.]\n",
       " [0. 1. 0. 0. 0. 0. 0. 0.]\n",
       " [0. 0. 1. 0. 0. 0. 0. 0.]\n",
       " [0. 0. 0. 1. 0. 0. 0. 0.]\n",
       " [0. 0. 0. 0. 1. 0. 0. 0.]\n",
       " [0. 0. 0. 0. 0. 0. 0. 1.]\n",
       " [0. 0. 0. 0. 0. 0. 1. 0.]\n",
       " [0. 0. 0. 0. 0. 1. 0. 0.]]"
      ]
     },
     "execution_count": 4,
     "metadata": {},
     "output_type": "execute_result"
    }
   ],
   "source": [
    "U = gate_sequence_product(q.propagators())\n",
    "\n",
    "U.tidyup()"
   ]
  },
  {
   "cell_type": "code",
   "execution_count": 5,
   "id": "2ac4a1e4",
   "metadata": {
    "execution": {
     "iopub.execute_input": "2023-03-15T08:50:38.224872Z",
     "iopub.status.busy": "2023-03-15T08:50:38.224402Z",
     "iopub.status.idle": "2023-03-15T08:50:38.228555Z",
     "shell.execute_reply": "2023-03-15T08:50:38.227790Z"
    }
   },
   "outputs": [],
   "source": [
    "q2 = q.resolve_gates()"
   ]
  },
  {
   "cell_type": "code",
   "execution_count": 6,
   "id": "0bc6a2ed",
   "metadata": {
    "execution": {
     "iopub.execute_input": "2023-03-15T08:50:38.231698Z",
     "iopub.status.busy": "2023-03-15T08:50:38.231141Z",
     "iopub.status.idle": "2023-03-15T08:50:38.804080Z",
     "shell.execute_reply": "2023-03-15T08:50:38.803305Z"
    }
   },
   "outputs": [
    {
     "name": "stderr",
     "output_type": "stream",
     "text": [
      "/home/runner/work/qutip-tutorials/qutip-tutorials/qutip-qip/src/qutip_qip/circuit/circuit_latex.py:95: UserWarning: Could not locate system 'pdfcrop': image output may have additional margins.\n",
      "  warnings.warn(\n"
     ]
    },
    {
     "data": {
      "image/png": "[encoded data removed]",
      "text/plain": [
       "<IPython.core.display.Image object>"
      ]
     },
     "execution_count": 6,
     "metadata": {},
     "output_type": "execute_result"
    }
   ],
   "source": [
    "q2.png"
   ]
  },
  {
   "cell_type": "code",
   "execution_count": 7,
   "id": "d2c0d641",
   "metadata": {
    "execution": {
     "iopub.execute_input": "2023-03-15T08:50:38.807228Z",
     "iopub.status.busy": "2023-03-15T08:50:38.806855Z",
     "iopub.status.idle": "2023-03-15T08:50:38.835880Z",
     "shell.execute_reply": "2023-03-15T08:50:38.834876Z"
    }
   },
   "outputs": [
    {
     "data": {
      "text/latex": [
       "Quantum object: dims = [[2, 2, 2], [2, 2, 2]], shape = (8, 8), type = oper, isherm = True $ \\\\ \\left(\\begin{matrix}1.000 & 0.0 & 0.0 & 0.0 & 0.0 & 0.0 & 0.0 & 0.0\\\\0.0 & 1.0 & 0.0 & 0.0 & 0.0 & 0.0 & 0.0 & 0.0\\\\0.0 & 0.0 & 1.000 & 0.0 & 0.0 & 0.0 & 0.0 & 0.0\\\\0.0 & 0.0 & 0.0 & 1.0 & 0.0 & 0.0 & 0.0 & 0.0\\\\0.0 & 0.0 & 0.0 & 0.0 & 1.0 & 0.0 & 0.0 & 0.0\\\\0.0 & 0.0 & 0.0 & 0.0 & 0.0 & 0.0 & 0.0 & 1.0\\\\0.0 & 0.0 & 0.0 & 0.0 & 0.0 & 0.0 & 1.0 & 0.0\\\\0.0 & 0.0 & 0.0 & 0.0 & 0.0 & 1.0 & 0.0 & 0.0\\\\\\end{matrix}\\right)$"
      ],
      "text/plain": [
       "Quantum object: dims = [[2, 2, 2], [2, 2, 2]], shape = (8, 8), type = oper, isherm = True\n",
       "Qobj data =\n",
       "[[1. 0. 0. 0. 0. 0. 0. 0.]\n",
       " [0. 1. 0. 0. 0. 0. 0. 0.]\n",
       " [0. 0. 1. 0. 0. 0. 0. 0.]\n",
       " [0. 0. 0. 1. 0. 0. 0. 0.]\n",
       " [0. 0. 0. 0. 1. 0. 0. 0.]\n",
       " [0. 0. 0. 0. 0. 0. 0. 1.]\n",
       " [0. 0. 0. 0. 0. 0. 1. 0.]\n",
       " [0. 0. 0. 0. 0. 1. 0. 0.]]"
      ]
     },
     "execution_count": 7,
     "metadata": {},
     "output_type": "execute_result"
    }
   ],
   "source": [
    "U2 = gate_sequence_product(q2.propagators())\n",
    "\n",
    "U2.tidyup()"
   ]
  },
  {
   "cell_type": "code",
   "execution_count": 8,
   "id": "f05bd654",
   "metadata": {
    "execution": {
     "iopub.execute_input": "2023-03-15T08:50:38.839111Z",
     "iopub.status.busy": "2023-03-15T08:50:38.838557Z",
     "iopub.status.idle": "2023-03-15T08:50:38.844885Z",
     "shell.execute_reply": "2023-03-15T08:50:38.844260Z"
    }
   },
   "outputs": [
    {
     "data": {
      "text/plain": [
       "True"
      ]
     },
     "execution_count": 8,
     "metadata": {},
     "output_type": "execute_result"
    }
   ],
   "source": [
    "U == U2"
   ]
  },
  {
   "cell_type": "markdown",
   "id": "ab9df097",
   "metadata": {},
   "source": [
    "## Versions"
   ]
  },
  {
   "cell_type": "code",
   "execution_count": 9,
   "id": "4a678bd5",
   "metadata": {
    "execution": {
     "iopub.execute_input": "2023-03-15T08:50:38.847831Z",
     "iopub.status.busy": "2023-03-15T08:50:38.847584Z",
     "iopub.status.idle": "2023-03-15T08:50:38.854056Z",
     "shell.execute_reply": "2023-03-15T08:50:38.852692Z"
    }
   },
   "outputs": [
    {
     "name": "stdout",
     "output_type": "stream",
     "text": [
      "\n",
      "QuTiP: Quantum Toolbox in Python\n",
      "================================\n",
      "Copyright (c) QuTiP team 2011 and later.\n",
      "Current admin team: Alexander Pitchford, Nathan Shammah, Shahnawaz Ahmed, Neill Lambert, Eric Giguère, Boxi Li, Jake Lishman, Simon Cross and Asier Galicia.\n",
      "Board members: Daniel Burgarth, Robert Johansson, Anton F. Kockum, Franco Nori and Will Zeng.\n",
      "Original developers: R. J. Johansson & P. D. Nation.\n",
      "Previous lead developers: Chris Granade & A. Grimsmo.\n",
      "Currently developed through wide collaboration. See https://github.com/qutip for details.\n",
      "\n",
      "QuTiP Version:      4.7.1\n",
      "Numpy Version:      1.22.4\n",
      "Scipy Version:      1.8.1\n",
      "Cython Version:     0.29.33\n",
      "Matplotlib Version: 3.5.2\n",
      "Python Version:     3.10.4\n",
      "Number of CPUs:     2\n",
      "BLAS Info:          Generic\n",
      "OPENMP Installed:   False\n",
      "INTEL MKL Ext:      False\n",
      "Platform Info:      Linux (x86_64)\n",
      "Installation path:  /home/runner/work/qutip-tutorials/qutip-tutorials/qutip/qutip\n",
      "================================================================================\n",
      "Please cite QuTiP in your publication.\n",
      "================================================================================\n",
      "For your convenience a bibtex reference can be easily generated using `qutip.cite()`\n"
     ]
    }
   ],
   "source": [
    "about()"
   ]
  }
 ],
 "metadata": {
  "jupytext": {
   "cell_metadata_filter": "-all",
   "notebook_metadata_filter": "-jupytext.cell_metadata_filter,-jupytext.notebook_metadata_filter"
  },
  "kernelspec": {
   "display_name": "Python 3 (ipykernel)",
   "language": "python",
   "name": "python3"
  },
  "language_info": {
   "codemirror_mode": {
    "name": "ipython",
    "version": 3
   },
   "file_extension": ".py",
   "mimetype": "text/x-python",
   "name": "python",
   "nbconvert_exporter": "python",
   "pygments_lexer": "ipython3",
   "version": "3.10.4"
  }
 },
 "nbformat": 4,
 "nbformat_minor": 5
}
